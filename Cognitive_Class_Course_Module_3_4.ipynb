{
  "nbformat": 4,
  "nbformat_minor": 0,
  "metadata": {
    "colab": {
      "provenance": [],
      "authorship_tag": "ABX9TyMOgE9SeczyQ8tWHpgVMxIr",
      "include_colab_link": true
    },
    "kernelspec": {
      "name": "python3",
      "display_name": "Python 3"
    },
    "language_info": {
      "name": "python"
    }
  },
  "cells": [
    {
      "cell_type": "markdown",
      "metadata": {
        "id": "view-in-github",
        "colab_type": "text"
      },
      "source": [
        "<a href=\"https://colab.research.google.com/github/mo7emmed/mo7emmed/blob/main/Cognitive_Class_Course_Module_3_4.ipynb\" target=\"_parent\"><img src=\"https://colab.research.google.com/assets/colab-badge.svg\" alt=\"Open In Colab\"/></a>"
      ]
    },
    {
      "cell_type": "markdown",
      "source": [
        "**Module Three**"
      ],
      "metadata": {
        "id": "-DWaa2JgAfjJ"
      }
    },
    {
      "cell_type": "code",
      "execution_count": null,
      "metadata": {
        "colab": {
          "base_uri": "https://localhost:8080/"
        },
        "id": "z8GsdaxJqnWd",
        "outputId": "7a41c6f9-b59d-409b-9d66-78d1ea061eb0"
      },
      "outputs": [
        {
          "output_type": "stream",
          "name": "stdout",
          "text": [
            "the album is in the 80s\n"
          ]
        }
      ],
      "source": [
        "# Conditions\n",
        "release_date1 = 1982\n",
        "if (release_date1 > 1980) and (release_date1 < 1990):\n",
        "  print (\"the album is in the 80s\")\n",
        "elif release_date1 == 1980:\n",
        "  print (\"the album is printed in 1980\")\n",
        "else:\n",
        "    print (\"the album is not available\")"
      ]
    },
    {
      "cell_type": "markdown",
      "source": [
        "Enumerate is a function used to iterate over a sequence of items in a list, a tuple or a string.\n"
      ],
      "metadata": {
        "id": "lpAfgb4F4LY8"
      }
    },
    {
      "cell_type": "code",
      "source": [
        "fruits = ['apple', 'banana', 'orange', 'pineapple']\n",
        "for i, b in enumerate(fruits):\n",
        "  print (i, b)"
      ],
      "metadata": {
        "colab": {
          "base_uri": "https://localhost:8080/"
        },
        "id": "sXmdFmIJ4jrb",
        "outputId": "bd5f4648-eb17-4818-dbf1-f39984cf5b8c"
      },
      "execution_count": null,
      "outputs": [
        {
          "output_type": "stream",
          "name": "stdout",
          "text": [
            "0 apple\n",
            "1 banana\n",
            "2 orange\n",
            "3 pineapple\n"
          ]
        }
      ]
    },
    {
      "cell_type": "code",
      "source": [
        "for i, b in enumerate(fruits, 1):\n",
        "  if b == 'orange':\n",
        "    print (i, b)"
      ],
      "metadata": {
        "colab": {
          "base_uri": "https://localhost:8080/"
        },
        "id": "FYmXtwVG51fe",
        "outputId": "0d2b24b4-cf78-44c7-f98a-70b58238f9b9"
      },
      "execution_count": null,
      "outputs": [
        {
          "output_type": "stream",
          "name": "stdout",
          "text": [
            "3 orange\n"
          ]
        }
      ]
    },
    {
      "cell_type": "code",
      "source": [
        "for i, b in enumerate(fruits, 1):\n",
        "  if i > 3:\n",
        "    print (\"the cart exceeds the orders count\")\n",
        "  else: print (i, b)"
      ],
      "metadata": {
        "colab": {
          "base_uri": "https://localhost:8080/"
        },
        "id": "-CHAADP_6aiY",
        "outputId": "380b7584-1dc1-4061-c223-e3589f5708aa"
      },
      "execution_count": null,
      "outputs": [
        {
          "output_type": "stream",
          "name": "stdout",
          "text": [
            "1 apple\n",
            "2 banana\n",
            "3 orange\n",
            "the cart exceeds the orders count\n"
          ]
        }
      ]
    },
    {
      "cell_type": "code",
      "source": [
        "for i in fruits:\n",
        "  print (i, i == \"banana\" or i == \"orange\")"
      ],
      "metadata": {
        "colab": {
          "base_uri": "https://localhost:8080/"
        },
        "id": "Qm-v-mxl7z-r",
        "outputId": "50012e9b-16fe-4e2d-d5c4-75a6d67b33cc"
      },
      "execution_count": null,
      "outputs": [
        {
          "output_type": "stream",
          "name": "stdout",
          "text": [
            "apple False\n",
            "banana True\n",
            "orange True\n",
            "pineapple False\n"
          ]
        }
      ]
    },
    {
      "cell_type": "code",
      "source": [
        "for i, b in enumerate(fruits):\n",
        "  fruits[i] = \"deleted\"\n",
        "fruits"
      ],
      "metadata": {
        "colab": {
          "base_uri": "https://localhost:8080/"
        },
        "id": "aH6kDSD5HY9b",
        "outputId": "88915f81-4ee7-49a8-f8e4-f9e1d168382c"
      },
      "execution_count": null,
      "outputs": [
        {
          "output_type": "execute_result",
          "data": {
            "text/plain": [
              "['deleted', 'deleted', 'deleted', 'deleted']"
            ]
          },
          "metadata": {},
          "execution_count": 60
        }
      ]
    },
    {
      "cell_type": "code",
      "source": [
        "employees = ['ali', 'ahmed', 'john', 'raul', 'brown', 'ziyad', 'smith', 'mahdi']\n",
        "applicants = ['ali', 'ahmed', 'abd', 'murtadha', 'smith', 'mahdi', 'josh', 'raul']"
      ],
      "metadata": {
        "id": "37egv14vKlem"
      },
      "execution_count": null,
      "outputs": []
    },
    {
      "cell_type": "code",
      "source": [
        "len(employees)"
      ],
      "metadata": {
        "colab": {
          "base_uri": "https://localhost:8080/"
        },
        "id": "P4w-GXKwLLsM",
        "outputId": "d212e1e6-be4e-4d4a-a8d1-28fa0dc0ad36"
      },
      "execution_count": null,
      "outputs": [
        {
          "output_type": "execute_result",
          "data": {
            "text/plain": [
              "8"
            ]
          },
          "metadata": {},
          "execution_count": 114
        }
      ]
    },
    {
      "cell_type": "code",
      "source": [
        "len(applicants)"
      ],
      "metadata": {
        "colab": {
          "base_uri": "https://localhost:8080/"
        },
        "id": "n_QysOksLNV_",
        "outputId": "456f0530-96cc-43d7-b929-c79fac98cc46"
      },
      "execution_count": null,
      "outputs": [
        {
          "output_type": "execute_result",
          "data": {
            "text/plain": [
              "8"
            ]
          },
          "metadata": {},
          "execution_count": 115
        }
      ]
    },
    {
      "cell_type": "code",
      "source": [
        "common_list = []\n",
        "for i in employees:\n",
        "  for b in applicants:\n",
        "    if i == b:\n",
        "      common_list.append(i)\n",
        "common_list"
      ],
      "metadata": {
        "colab": {
          "base_uri": "https://localhost:8080/"
        },
        "id": "YbFmw8qWLTla",
        "outputId": "e973ec83-b810-4c08-fc2b-6c128e14b21d"
      },
      "execution_count": null,
      "outputs": [
        {
          "output_type": "execute_result",
          "data": {
            "text/plain": [
              "['ali', 'ahmed', 'raul', 'smith', 'mahdi']"
            ]
          },
          "metadata": {},
          "execution_count": 22
        }
      ]
    },
    {
      "cell_type": "code",
      "source": [
        "people = []\n",
        "i = 0\n",
        "while i < len(employees):\n",
        "  for b in employees:\n",
        "    if b == applicants[i]:\n",
        "      people.append(applicants[i])\n",
        "  i+=1\n",
        "people"
      ],
      "metadata": {
        "colab": {
          "base_uri": "https://localhost:8080/"
        },
        "id": "-jMNjy6iOk3K",
        "outputId": "c60c7378-7487-4788-ab53-8d5a7680346d"
      },
      "execution_count": null,
      "outputs": [
        {
          "output_type": "execute_result",
          "data": {
            "text/plain": [
              "['ali', 'ahmed', 'smith', 'mahdi', 'raul']"
            ]
          },
          "metadata": {},
          "execution_count": 23
        }
      ]
    },
    {
      "cell_type": "code",
      "source": [
        "common = []\n",
        "a = 0\n",
        "\n",
        "while a < len(employees):\n",
        "  b = 0\n",
        "  while b < len(employees):\n",
        "    if employees[a] == applicants [b]:\n",
        "      common.append(employees[a])\n",
        "    b+=1\n",
        "  a+=1\n",
        "common"
      ],
      "metadata": {
        "colab": {
          "base_uri": "https://localhost:8080/"
        },
        "id": "aosfV_oJu0Q_",
        "outputId": "b29cb7de-943b-4373-eb9b-a77c74ef178b"
      },
      "execution_count": null,
      "outputs": [
        {
          "output_type": "execute_result",
          "data": {
            "text/plain": [
              "['ali', 'ahmed', 'raul', 'smith', 'mahdi']"
            ]
          },
          "metadata": {},
          "execution_count": 5
        }
      ]
    },
    {
      "cell_type": "code",
      "source": [
        "a = set(applicants) & set(employees)\n",
        "a = list(a)\n",
        "a"
      ],
      "metadata": {
        "colab": {
          "base_uri": "https://localhost:8080/"
        },
        "id": "Z5c3Td6_5aoM",
        "outputId": "4e97a099-4c23-4d24-b5e1-b26fe7927ebe"
      },
      "execution_count": null,
      "outputs": [
        {
          "output_type": "execute_result",
          "data": {
            "text/plain": [
              "['ali', 'ahmed', 'raul', 'smith', 'mahdi']"
            ]
          },
          "metadata": {},
          "execution_count": 24
        }
      ]
    },
    {
      "cell_type": "markdown",
      "source": [
        "Collections are sets and dictionaries.\n",
        "Sequences are lists, tuples and strings."
      ],
      "metadata": {
        "id": "Nj5j2WGY9TUi"
      }
    },
    {
      "cell_type": "markdown",
      "source": [
        "Asterisks preceding function variables make room for several variables inside parentheses if the function is applied."
      ],
      "metadata": {
        "id": "4Zu0un1RA3NS"
      }
    },
    {
      "cell_type": "markdown",
      "source": [
        "One asterisk allows unspecified number of non-keyworded variables (any variable whose key is unnamed, but its value is assigned, like variables in lists, tuples). Two asterisks on the other hand allow unspecified number of keyworded variables (variables with declared keys and values, like dictionaries).\n",
        "\n",
        "Examples are:"
      ],
      "metadata": {
        "id": "MuSQmzLu1DxA"
      }
    },
    {
      "cell_type": "code",
      "source": [
        "# * is usually referred to as args (short for 'arguments')\n",
        "def add(*args):\n",
        "  x = sum(args)\n",
        "  return x"
      ],
      "metadata": {
        "id": "yBZzWPPwCA2A"
      },
      "execution_count": null,
      "outputs": []
    },
    {
      "cell_type": "code",
      "source": [
        "add(1,4,7,8)"
      ],
      "metadata": {
        "colab": {
          "base_uri": "https://localhost:8080/"
        },
        "id": "LuI90YPaCXRo",
        "outputId": "a0ba4ec6-fe66-46de-8500-76a65556c249"
      },
      "execution_count": null,
      "outputs": [
        {
          "output_type": "execute_result",
          "data": {
            "text/plain": [
              "20"
            ]
          },
          "metadata": {},
          "execution_count": 4
        }
      ]
    },
    {
      "cell_type": "code",
      "source": [
        "def add2(*args):\n",
        "  sum = 0\n",
        "  for i in args:\n",
        "    sum += i\n",
        "  return sum"
      ],
      "metadata": {
        "id": "ntr8T61qzy_m"
      },
      "execution_count": null,
      "outputs": []
    },
    {
      "cell_type": "code",
      "source": [
        "add(3,5,1,90)"
      ],
      "metadata": {
        "colab": {
          "base_uri": "https://localhost:8080/"
        },
        "id": "pB0LyxCP5Quh",
        "outputId": "8ff67ad9-0d90-491e-e8cc-5ee0a5de4e75"
      },
      "execution_count": null,
      "outputs": [
        {
          "output_type": "execute_result",
          "data": {
            "text/plain": [
              "99"
            ]
          },
          "metadata": {},
          "execution_count": 11
        }
      ]
    },
    {
      "cell_type": "code",
      "source": [
        "# kwargs is a short for keyworded arguments\n",
        "def grocery_items(**kwargs):\n",
        "  total = 0\n",
        "  item = []\n",
        "\n",
        "  for keys, values in kwargs.items():\n",
        "    total += values\n",
        "    item.append(keys)\n",
        "\n",
        "  # removing the list brackets and apostrophes (for a friendlier look)\n",
        "  st_item = str(item)\n",
        "  st_item = st_item[1:-1]\n",
        "  st_item = st_item.replace(\"'\", \"\")\n",
        "\n",
        "  # adding \"and\" before the last item\n",
        "  r_st = st_item[::-1]      # reversing the string to find (locate) the last space\n",
        "  space = r_st.find(\" \")\n",
        "  r_st = r_st[:space] + \" dna\" + r_st[space:]\n",
        "  st_item = r_st[::-1]\n",
        "\n",
        "  print (\"the total price of\", st_item, \"is\", total)\n",
        "  return total\n"
      ],
      "metadata": {
        "id": "Ax7G_cOC5tzq"
      },
      "execution_count": null,
      "outputs": []
    },
    {
      "cell_type": "code",
      "source": [
        "grocery_items(tomato=2000, potato=3000, orange=7000, mango=3000)"
      ],
      "metadata": {
        "colab": {
          "base_uri": "https://localhost:8080/"
        },
        "id": "2EZcnf3j9dBK",
        "outputId": "fb76ae5e-c714-4804-a011-3c8cf9255e11"
      },
      "execution_count": null,
      "outputs": [
        {
          "output_type": "stream",
          "name": "stdout",
          "text": [
            "the total price of tomato, potato, orange, and mango is 15000\n"
          ]
        },
        {
          "output_type": "execute_result",
          "data": {
            "text/plain": [
              "15000"
            ]
          },
          "metadata": {},
          "execution_count": 174
        }
      ]
    },
    {
      "cell_type": "code",
      "source": [
        "grocery_items(bananas = 4561, cucumber = 3200, figs = 7200, cauliflower = 4000)"
      ],
      "metadata": {
        "colab": {
          "base_uri": "https://localhost:8080/"
        },
        "id": "DC1BWIqtWL-Z",
        "outputId": "e272a76b-b833-42db-8dba-e220eb493971"
      },
      "execution_count": null,
      "outputs": [
        {
          "output_type": "stream",
          "name": "stdout",
          "text": [
            "the total price of bananas, cucumber, figs, and cauliflower is 18961\n"
          ]
        },
        {
          "output_type": "execute_result",
          "data": {
            "text/plain": [
              "18961"
            ]
          },
          "metadata": {},
          "execution_count": 109
        }
      ]
    },
    {
      "cell_type": "code",
      "source": [
        "def shop_items(**kwargs):\n",
        "  total = 0\n",
        "  item = []\n",
        "  item.append(['',''])      # to ignore 0 in the list\n",
        "  for keys, values in kwargs.items():\n",
        "    total += values\n",
        "    item.extend([[keys, values]])\n",
        "  \n",
        "  item.append(['----------','----------'])\n",
        "  item.append(['total', total])\n",
        "\n",
        "  import pandas as pd\n",
        "  df = pd.DataFrame(item, columns = ['item', 'price'])\n",
        "  df = df.drop(df.index[0])\n",
        "\n",
        "  print (df)\n"
      ],
      "metadata": {
        "id": "VRwYAP9ZdcQC"
      },
      "execution_count": null,
      "outputs": []
    },
    {
      "cell_type": "code",
      "source": [
        "shop_items(bananas = 4561, cucumber = 3200, figs = 7200, cauliflower = 4000, orange = 5200, lettuce = 4000)"
      ],
      "metadata": {
        "colab": {
          "base_uri": "https://localhost:8080/"
        },
        "id": "fNzYBdKBibVw",
        "outputId": "c85568f9-cb11-4a4b-f37a-bf4cb3f207d4"
      },
      "execution_count": null,
      "outputs": [
        {
          "output_type": "stream",
          "name": "stdout",
          "text": [
            "          item       price\n",
            "1      bananas        4561\n",
            "2     cucumber        3200\n",
            "3         figs        7200\n",
            "4  cauliflower        4000\n",
            "5       orange        5200\n",
            "6      lettuce        4000\n",
            "7   ----------  ----------\n",
            "8        total       28161\n"
          ]
        }
      ]
    },
    {
      "cell_type": "code",
      "source": [
        "p = ['n', 'd']\n",
        "m=str(p)\n",
        "print(p)\n",
        "print(m)\n",
        "print(type(p))\n",
        "print(type(m))"
      ],
      "metadata": {
        "colab": {
          "base_uri": "https://localhost:8080/"
        },
        "id": "Gk-vJMoYBREL",
        "outputId": "b22fe4e7-13b6-4f42-b52b-6c03aa3ccd80"
      },
      "execution_count": null,
      "outputs": [
        {
          "output_type": "stream",
          "name": "stdout",
          "text": [
            "['n', 'd']\n",
            "['n', 'd']\n",
            "<class 'list'>\n",
            "<class 'str'>\n"
          ]
        }
      ]
    },
    {
      "cell_type": "code",
      "source": [
        "m=m.replace(\"['\",\"\")\n",
        "m"
      ],
      "metadata": {
        "colab": {
          "base_uri": "https://localhost:8080/",
          "height": 36
        },
        "id": "vsv5JTYSBbBg",
        "outputId": "fe5cf11e-835f-4690-83c2-d48dc77b5214"
      },
      "execution_count": null,
      "outputs": [
        {
          "output_type": "execute_result",
          "data": {
            "text/plain": [
              "\"n', 'd']\""
            ],
            "application/vnd.google.colaboratory.intrinsic+json": {
              "type": "string"
            }
          },
          "metadata": {},
          "execution_count": 60
        }
      ]
    },
    {
      "cell_type": "code",
      "source": [
        "m = 'hello'\n",
        "m[::-1]\n",
        "m.find('l')\n",
        "n=m[:3]+'i'+m[3:]\n",
        "n"
      ],
      "metadata": {
        "colab": {
          "base_uri": "https://localhost:8080/",
          "height": 36
        },
        "id": "YDCFyr7rEord",
        "outputId": "c1630884-0482-4d3b-8e82-f5422b3afcf7"
      },
      "execution_count": null,
      "outputs": [
        {
          "output_type": "execute_result",
          "data": {
            "text/plain": [
              "'helilo'"
            ],
            "application/vnd.google.colaboratory.intrinsic+json": {
              "type": "string"
            }
          },
          "metadata": {},
          "execution_count": 93
        }
      ]
    },
    {
      "cell_type": "code",
      "source": [
        "def f(*x):\n",
        "  return sum(x)\n",
        "\n",
        "c = f(3,4,6)\n",
        "type(c)"
      ],
      "metadata": {
        "colab": {
          "base_uri": "https://localhost:8080/"
        },
        "id": "ALyJfv3iNJSh",
        "outputId": "22056fb7-db8d-4a84-def0-2623913120cf"
      },
      "execution_count": null,
      "outputs": [
        {
          "output_type": "execute_result",
          "data": {
            "text/plain": [
              "int"
            ]
          },
          "metadata": {},
          "execution_count": 2
        }
      ]
    },
    {
      "cell_type": "markdown",
      "source": [
        "Classes are the same as types. We create classes to predefine objects attributes in order to deal with them easily. Classes are like molds of structures holding information in a predefined way.\n",
        "\n",
        "Classes consist of attributes (class main body and structure) and functions (methods for class modification)"
      ],
      "metadata": {
        "id": "UxZ-XXuYPCTZ"
      }
    },
    {
      "cell_type": "code",
      "source": [
        "class circle (object):\n",
        "  def __init__ (self, radius, color):\n",
        "    self.radius = radius\n",
        "    self.color = color\n",
        "\n",
        "  def add_r(self, r):\n",
        "    self.radius = self.radius + r\n",
        "    return (self.radius)\n",
        "  "
      ],
      "metadata": {
        "id": "ltgGuMxFogU5"
      },
      "execution_count": null,
      "outputs": []
    },
    {
      "cell_type": "code",
      "source": [
        "c1 = circle(30,'brown')\n",
        "c1.radius"
      ],
      "metadata": {
        "colab": {
          "base_uri": "https://localhost:8080/"
        },
        "id": "6vQ-2vTVpPS7",
        "outputId": "e6c65b17-9c96-43b3-9d25-38cf1f60e32c"
      },
      "execution_count": null,
      "outputs": [
        {
          "output_type": "execute_result",
          "data": {
            "text/plain": [
              "30"
            ]
          },
          "metadata": {},
          "execution_count": 19
        }
      ]
    },
    {
      "cell_type": "code",
      "source": [
        "c1.add_r(3)\n",
        "c1.radius"
      ],
      "metadata": {
        "colab": {
          "base_uri": "https://localhost:8080/"
        },
        "id": "04H4wGy_rJ-0",
        "outputId": "6fa3d00a-693f-4ffb-da51-18de8c051eb3"
      },
      "execution_count": null,
      "outputs": [
        {
          "output_type": "execute_result",
          "data": {
            "text/plain": [
              "33"
            ]
          },
          "metadata": {},
          "execution_count": 20
        }
      ]
    },
    {
      "cell_type": "code",
      "source": [
        "class dicount (object):\n",
        "  def __init__ (self, amount):\n",
        "    self.amount = amount\n",
        "\n",
        "  def d_price (self):\n",
        "    t = \"your price after discount is:\"\n",
        "    if self.amount > 9999:\n",
        "      print (\"you could buy a lamborghini with that! 😉\")\n",
        "    elif self.amount > 3499:\n",
        "      print (t, round(self.amount*0.65))\n",
        "    elif self.amount > 1999:\n",
        "      print (t, round(self.amount*0.75))\n",
        "    elif self.amount > 999:\n",
        "      print (t, round(self.amount*0.90))\n",
        "    elif self.amount > 499:\n",
        "      print (t, round(self.amount*0.95))\n",
        "    else:\n",
        "      print (\"sorry, you didn't reach the dicount threshold. try saving more by buying more!\")\n",
        "    "
      ],
      "metadata": {
        "id": "ReT-Yopox0OZ"
      },
      "execution_count": null,
      "outputs": []
    },
    {
      "cell_type": "code",
      "source": [
        "order1 = dicount(788)\n",
        "order1.d_price()"
      ],
      "metadata": {
        "colab": {
          "base_uri": "https://localhost:8080/"
        },
        "id": "QBTGeBSr0-UX",
        "outputId": "bf26bf9e-0b05-465e-8886-148fbc55e15c"
      },
      "execution_count": null,
      "outputs": [
        {
          "output_type": "stream",
          "name": "stdout",
          "text": [
            "your price after discount is: 749\n"
          ]
        }
      ]
    },
    {
      "cell_type": "code",
      "source": [
        "order2 = dicount (9880)\n",
        "order2.d_price()"
      ],
      "metadata": {
        "colab": {
          "base_uri": "https://localhost:8080/"
        },
        "id": "fTceK1fx1PLj",
        "outputId": "91af8799-d28f-45e9-d2b6-5ebafe88fecd"
      },
      "execution_count": null,
      "outputs": [
        {
          "output_type": "stream",
          "name": "stdout",
          "text": [
            "your price after discount is: 6422\n"
          ]
        }
      ]
    },
    {
      "cell_type": "code",
      "source": [
        "class car (object):\n",
        "  def __init__ (self, make, model, color):\n",
        "    self.make = make\n",
        "    self.model = model\n",
        "    self.color = color"
      ],
      "metadata": {
        "id": "axoCE2TQnk2G"
      },
      "execution_count": null,
      "outputs": []
    },
    {
      "cell_type": "code",
      "source": [
        "car1 = car ('honda', 'accord', 'blue')"
      ],
      "metadata": {
        "id": "14EDGiZvb3ua"
      },
      "execution_count": null,
      "outputs": []
    },
    {
      "cell_type": "code",
      "source": [
        "car1.color"
      ],
      "metadata": {
        "colab": {
          "base_uri": "https://localhost:8080/",
          "height": 36
        },
        "id": "6y0EgAt3b-2Y",
        "outputId": "e98f71dd-030d-4cd5-806a-9679e237c75a"
      },
      "execution_count": null,
      "outputs": [
        {
          "output_type": "execute_result",
          "data": {
            "text/plain": [
              "'blue'"
            ],
            "application/vnd.google.colaboratory.intrinsic+json": {
              "type": "string"
            }
          },
          "metadata": {},
          "execution_count": 19
        }
      ]
    },
    {
      "cell_type": "markdown",
      "source": [
        "Note that you can recall the attribute while creating a new object. by recalling the attribute you can also change the order of the attributes. for example, you can assign the color attribute first as shown below:"
      ],
      "metadata": {
        "id": "qpL1EaiGcFC5"
      }
    },
    {
      "cell_type": "code",
      "source": [
        "car2 = car (color = 'purple', model = 1990, make = 'dali')"
      ],
      "metadata": {
        "id": "PKRbVWghcArc"
      },
      "execution_count": null,
      "outputs": []
    },
    {
      "cell_type": "code",
      "source": [
        "car2.color"
      ],
      "metadata": {
        "colab": {
          "base_uri": "https://localhost:8080/",
          "height": 36
        },
        "id": "qSSj25rQcwsk",
        "outputId": "c197aa9a-1bae-4113-86fc-6c8e76e9a9f7"
      },
      "execution_count": null,
      "outputs": [
        {
          "output_type": "execute_result",
          "data": {
            "text/plain": [
              "'purple'"
            ],
            "application/vnd.google.colaboratory.intrinsic+json": {
              "type": "string"
            }
          },
          "metadata": {},
          "execution_count": 21
        }
      ]
    },
    {
      "cell_type": "code",
      "source": [],
      "metadata": {
        "id": "-zfyk5iZcyPX"
      },
      "execution_count": null,
      "outputs": []
    }
  ]
}