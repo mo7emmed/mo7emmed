{
 "cells": [
  {
   "cell_type": "code",
   "execution_count": 1,
   "metadata": {},
   "outputs": [
    {
     "data": {
      "text/plain": [
       "7"
      ]
     },
     "execution_count": 1,
     "metadata": {},
     "output_type": "execute_result"
    }
   ],
   "source": [
    "1+6"
   ]
  },
  {
   "cell_type": "code",
   "execution_count": 2,
   "metadata": {},
   "outputs": [
    {
     "ename": "ModuleNotFoundError",
     "evalue": "No module named 'matplotlib'",
     "output_type": "error",
     "traceback": [
      "\u001b[1;31m---------------------------------------------------------------------------\u001b[0m",
      "\u001b[1;31mModuleNotFoundError\u001b[0m                       Traceback (most recent call last)",
      "\u001b[1;32m~\\AppData\\Local\\Temp\\ipykernel_9016\\3165040055.py\u001b[0m in \u001b[0;36m<module>\u001b[1;34m\u001b[0m\n\u001b[1;32m----> 1\u001b[1;33m \u001b[1;32mimport\u001b[0m \u001b[0mmatplotlib\u001b[0m\u001b[1;33m.\u001b[0m\u001b[0mpyplot\u001b[0m \u001b[1;32mas\u001b[0m \u001b[0mplt\u001b[0m\u001b[1;33m\u001b[0m\u001b[1;33m\u001b[0m\u001b[0m\n\u001b[0m\u001b[0;32m      2\u001b[0m \u001b[1;32mimport\u001b[0m \u001b[0mnumpy\u001b[0m \u001b[1;32mas\u001b[0m \u001b[0mnp\u001b[0m\u001b[1;33m\u001b[0m\u001b[1;33m\u001b[0m\u001b[0m\n\u001b[0;32m      3\u001b[0m \u001b[1;32mimport\u001b[0m \u001b[0mpandas\u001b[0m \u001b[1;32mas\u001b[0m \u001b[0mpd\u001b[0m\u001b[1;33m\u001b[0m\u001b[1;33m\u001b[0m\u001b[0m\n\u001b[0;32m      4\u001b[0m \u001b[1;32mimport\u001b[0m \u001b[0mtensorflow\u001b[0m \u001b[1;32mas\u001b[0m \u001b[0mtf\u001b[0m\u001b[1;33m\u001b[0m\u001b[1;33m\u001b[0m\u001b[0m\n\u001b[0;32m      5\u001b[0m \u001b[1;32mimport\u001b[0m \u001b[0mgradio\u001b[0m \u001b[1;32mas\u001b[0m \u001b[0mgr\u001b[0m\u001b[1;33m\u001b[0m\u001b[1;33m\u001b[0m\u001b[0m\n",
      "\u001b[1;31mModuleNotFoundError\u001b[0m: No module named 'matplotlib'"
     ]
    }
   ],
   "source": [
    "import matplotlib.pyplot as plt\n",
    "import numpy as np\n",
    "import pandas as pd\n",
    "import tensorflow as tf\n",
    "import gradio as gr\n",
    "import gensim\n",
    "import re\n",
    "import nltk\n",
    "from sklearn.model_selection import train_test_split\n",
    "from tensorflow.nn import sigmoid\n",
    "from nltk.corpus import stopwords\n",
    "from tensorflow.keras.models import Sequential\n",
    "from tensorflow.keras.layers import Embedding, Flatten, Dense, Bidirectional, GRU, Dense, Dropout, concatenate, LSTM\n",
    "from tensorflow.keras.preprocessing.text import Tokenizer\n",
    "nltk.download('stopwords')"
   ]
  },
  {
   "cell_type": "markdown",
   "metadata": {},
   "source": [
    "Importing a Word2Vec Arabic Model"
   ]
  },
  {
   "cell_type": "code",
   "execution_count": null,
   "metadata": {},
   "outputs": [],
   "source": [
    "file_path = 'SG_300_3_400\\w2v_SG_300_3_400_10.model'\n",
    "word_embed = gensim.models.Word2Vec.load(file_path)"
   ]
  },
  {
   "cell_type": "code",
   "execution_count": null,
   "metadata": {},
   "outputs": [
    {
     "data": {
      "text/plain": [
       "[('وراءد', 0.6057729125022888),\n",
       " ('رايد', 0.5943275690078735),\n",
       " ('هيثم', 0.5192651748657227),\n",
       " ('عبدالاله', 0.5130357146263123),\n",
       " ('هاني', 0.5059362053871155),\n",
       " ('الصقري', 0.4963535964488983),\n",
       " ('ذيب', 0.4849216639995575),\n",
       " ('زياد', 0.4838601350784302),\n",
       " ('الحارثي', 0.4745340645313263),\n",
       " ('ساير', 0.47297826409339905)]"
      ]
     },
     "execution_count": 51,
     "metadata": {},
     "output_type": "execute_result"
    }
   ],
   "source": [
    "word_embed.wv.most_similar('راءد')"
   ]
  },
  {
   "cell_type": "markdown",
   "metadata": {},
   "source": [
    "Importing and Preparing Data for Training"
   ]
  },
  {
   "cell_type": "code",
   "execution_count": null,
   "metadata": {},
   "outputs": [
    {
     "data": {
      "text/html": [
       "<div>\n",
       "<style scoped>\n",
       "    .dataframe tbody tr th:only-of-type {\n",
       "        vertical-align: middle;\n",
       "    }\n",
       "\n",
       "    .dataframe tbody tr th {\n",
       "        vertical-align: top;\n",
       "    }\n",
       "\n",
       "    .dataframe thead th {\n",
       "        text-align: right;\n",
       "    }\n",
       "</style>\n",
       "<table border=\"1\" class=\"dataframe\">\n",
       "  <thead>\n",
       "    <tr style=\"text-align: right;\">\n",
       "      <th></th>\n",
       "      <th>Unnamed: 0</th>\n",
       "      <th>review_description</th>\n",
       "      <th>rating</th>\n",
       "      <th>company</th>\n",
       "    </tr>\n",
       "  </thead>\n",
       "  <tbody>\n",
       "    <tr>\n",
       "      <th>0</th>\n",
       "      <td>0</td>\n",
       "      <td>رائع</td>\n",
       "      <td>1</td>\n",
       "      <td>talbat</td>\n",
       "    </tr>\n",
       "    <tr>\n",
       "      <th>1</th>\n",
       "      <td>1</td>\n",
       "      <td>برنامج رائع جدا يساعد على تلبيه الاحتياجات بشك...</td>\n",
       "      <td>1</td>\n",
       "      <td>talbat</td>\n",
       "    </tr>\n",
       "    <tr>\n",
       "      <th>2</th>\n",
       "      <td>2</td>\n",
       "      <td>التطبيق لا يغتح دائما بيعطيني لا يوجد اتصال با...</td>\n",
       "      <td>-1</td>\n",
       "      <td>talbat</td>\n",
       "    </tr>\n",
       "    <tr>\n",
       "      <th>3</th>\n",
       "      <td>3</td>\n",
       "      <td>لماذا لا يمكننا طلب من ماكدونالدز؟</td>\n",
       "      <td>-1</td>\n",
       "      <td>talbat</td>\n",
       "    </tr>\n",
       "    <tr>\n",
       "      <th>4</th>\n",
       "      <td>4</td>\n",
       "      <td>البرنامج بيظهر كل المطاعم و مغلقه مع انها بتكو...</td>\n",
       "      <td>-1</td>\n",
       "      <td>talbat</td>\n",
       "    </tr>\n",
       "  </tbody>\n",
       "</table>\n",
       "</div>"
      ],
      "text/plain": [
       "   Unnamed: 0                                 review_description  rating  \\\n",
       "0           0                                               رائع       1   \n",
       "1           1  برنامج رائع جدا يساعد على تلبيه الاحتياجات بشك...       1   \n",
       "2           2  التطبيق لا يغتح دائما بيعطيني لا يوجد اتصال با...      -1   \n",
       "3           3                 لماذا لا يمكننا طلب من ماكدونالدز؟      -1   \n",
       "4           4  البرنامج بيظهر كل المطاعم و مغلقه مع انها بتكو...      -1   \n",
       "\n",
       "  company  \n",
       "0  talbat  \n",
       "1  talbat  \n",
       "2  talbat  \n",
       "3  talbat  \n",
       "4  talbat  "
      ]
     },
     "execution_count": 52,
     "metadata": {},
     "output_type": "execute_result"
    }
   ],
   "source": [
    "df = pd.read_csv('CompanyReviews.csv')\n",
    "df.head()"
   ]
  },
  {
   "cell_type": "code",
   "execution_count": null,
   "metadata": {},
   "outputs": [
    {
     "name": "stderr",
     "output_type": "stream",
     "text": [
      "C:\\Users\\Nitro 5\\AppData\\Local\\Temp\\ipykernel_34076\\2219360732.py:2: SettingWithCopyWarning: \n",
      "A value is trying to be set on a copy of a slice from a DataFrame\n",
      "\n",
      "See the caveats in the documentation: https://pandas.pydata.org/pandas-docs/stable/user_guide/indexing.html#returning-a-view-versus-a-copy\n",
      "  df_c.dropna(inplace = True)\n"
     ]
    }
   ],
   "source": [
    "df_c = df[['review_description', 'rating']]\n",
    "df_c.dropna(inplace = True)"
   ]
  },
  {
   "cell_type": "code",
   "execution_count": null,
   "metadata": {},
   "outputs": [],
   "source": [
    "# Balancing Positive & Negative Comments\n",
    "\n",
    "df_c = pd.concat(\n",
    "    [\n",
    "        df_c[(df_c.rating == -1)],\n",
    "        #df_c[(df_c.rating == 0)],\n",
    "        df_c[(df_c.rating == 1)].iloc[:(df_c.rating == -1).sum()],\n",
    "    ]\n",
    ")"
   ]
  },
  {
   "cell_type": "code",
   "execution_count": null,
   "metadata": {},
   "outputs": [
    {
     "data": {
      "text/plain": [
       "array([[<Axes: title={'center': 'rating'}>]], dtype=object)"
      ]
     },
     "execution_count": 56,
     "metadata": {},
     "output_type": "execute_result"
    },
    {
     "data": {
      "image/png": "[encoded data removed]",
      "text/plain": [
       "<Figure size 640x480 with 1 Axes>"
      ]
     },
     "metadata": {},
     "output_type": "display_data"
    }
   ],
   "source": [
    "df_c.hist()"
   ]
  },
  {
   "cell_type": "markdown",
   "metadata": {},
   "source": [
    "Adjusting Stopwords to Better Fit in Our Data"
   ]
  },
  {
   "cell_type": "code",
   "execution_count": null,
   "metadata": {},
   "outputs": [
    {
     "name": "stdout",
     "output_type": "stream",
     "text": [
      "701\n",
      "869\n"
     ]
    }
   ],
   "source": [
    "\n",
    "ar_s = stopwords.words('arabic')\n",
    "ar_s = list(set(ar_s))\n",
    "ar_sw = []\n",
    "\n",
    "for word in ar_s:\n",
    "  misspelled = re.sub('[أإآاًاً]', \"ا\", word)\n",
    "  ar_sw.append(word)\n",
    "  ar_sw.append(misspelled)\n",
    "\n",
    "# adding extra words:\n",
    "extra_words = [\"بتكون\", \"بيكون\", \"اكتر\", \"أكتر\", \"آني\", \"وآني\", \"واني\", \"اللي\", \"ال\", \"له\", \"لي\", \"وانا\"]\n",
    "common_names = ['الفراش الأبيض White Bedding', 'سبرنك', 'السبرنك', 'عراقيه', 'عراقي', 'تركي', 'تركيه', 'دوشك', 'فراش', 'قياس', 'بيش', 'ابيش', 'شكد', 'اشكد', 'التوصيل', 'توصيل']\n",
    "ar_sw.extend(extra_words)\n",
    "ar_sw.extend(common_names)\n",
    "ar_sw = list(set(ar_sw))\n",
    "ar_sw.remove(\"لا\")\n",
    "\n",
    "print (len(ar_s), len(ar_sw), sep = '\\n') # ar_sw will be used"
   ]
  },
  {
   "cell_type": "code",
   "execution_count": null,
   "metadata": {},
   "outputs": [],
   "source": [
    "emojis = {\n",
    "    \"🙂\": \"يبتسم\",\n",
    "    \"😂\": \"يضحك\",\n",
    "    \"💔\": \"قلب حزين\",\n",
    "    \"🙂\": \"يبتسم\",\n",
    "    \"❤️\": \"حب\",\n",
    "    \"❤\": \"حب\",\n",
    "    \"😍\": \"حب\",\n",
    "    \"😭\": \"يبكي\",\n",
    "    \"😢\": \"حزن\",\n",
    "    \"😔\": \"حزن\",\n",
    "    \"♥\": \"حب\",\n",
    "    \"💜\": \"حب\",\n",
    "    \"😅\": \"يضحك\",\n",
    "    \"🙁\": \"حزين\",\n",
    "    \"💕\": \"حب\",\n",
    "    \"💙\": \"حب\",\n",
    "    \"😞\": \"حزين\",\n",
    "    \"😊\": \"سعادة\",\n",
    "    \"👏\": \"يصفق\",\n",
    "    \"👌\": \"احسنت\",\n",
    "    \"😴\": \"ينام\",\n",
    "    \"😀\": \"يضحك\",\n",
    "    \"😌\": \"حزين\",\n",
    "    \"🌹\": \"وردة\",\n",
    "    \"🙈\": \"حب\",\n",
    "    \"😄\": \"يضحك\",\n",
    "    \"😐\": \"محايد\",\n",
    "    \"✌\": \"منتصر\",\n",
    "    \"✨\": \"نجمه\",\n",
    "    \"🤔\": \"تفكير\",\n",
    "    \"😏\": \"يستهزء\",\n",
    "    \"😒\": \"يستهزء\",\n",
    "    \"🙄\": \"ملل\",\n",
    "    \"😕\": \"عصبية\",\n",
    "    \"😃\": \"يضحك\",\n",
    "    \"🌸\": \"وردة\",\n",
    "    \"😓\": \"حزن\",\n",
    "    \"💞\": \"حب\",\n",
    "    \"💗\": \"حب\",\n",
    "    \"😑\": \"منزعج\",\n",
    "    \"💭\": \"تفكير\",\n",
    "    \"😎\": \"ثقة\",\n",
    "    \"💛\": \"حب\",\n",
    "    \"😩\": \"حزين\",\n",
    "    \"💪\": \"عضلات\",\n",
    "    \"👍\": \"موافق\",\n",
    "    \"🙏🏻\": \"رجاء طلب\",\n",
    "    \"😳\": \"مصدوم\",\n",
    "    \"👏🏼\": \"تصفيق\",\n",
    "    \"🎶\": \"موسيقي\",\n",
    "    \"🌚\": \"صمت\",\n",
    "    \"💚\": \"حب\",\n",
    "    \"🙏\": \"رجاء طلب\",\n",
    "    \"💘\": \"حب\",\n",
    "    \"🍃\": \"سلام\",\n",
    "    \"☺\": \"يضحك\",\n",
    "    \"🐸\": \"ضفدع\",\n",
    "    \"😶\": \"مصدوم\",\n",
    "    \"✌️\": \"مرح\",\n",
    "    \"✋🏻\": \"توقف\",\n",
    "    \"😉\": \"غمزة\",\n",
    "    \"🌷\": \"حب\",\n",
    "    \"🙃\": \"مبتسم\",\n",
    "    \"😫\": \"حزين\",\n",
    "    \"😨\": \"مصدوم\",\n",
    "    \"🎼 \": \"موسيقي\",\n",
    "    \"🍁\": \"مرح\",\n",
    "    \"🍂\": \"مرح\",\n",
    "    \"💟\": \"حب\",\n",
    "    \"😪\": \"حزن\",\n",
    "    \"😆\": \"يضحك\",\n",
    "    \"😣\": \"استياء\",\n",
    "    \"☺️\": \"حب\",\n",
    "    \"😱\": \"كارثة\",\n",
    "    \"😁\": \"يضحك\",\n",
    "    \"😖\": \"استياء\",\n",
    "    \"🏃🏼\": \"يجري\",\n",
    "    \"😡\": \"غضب\",\n",
    "    \"🚶\": \"يسير\",\n",
    "    \"🤕\": \"مرض\",\n",
    "    \"‼️\": \"تعجب\",\n",
    "    \"🕊\": \"طائر\",\n",
    "    \"👌🏻\": \"احسنت\",\n",
    "    \"❣\": \"حب\",\n",
    "    \"🙊\": \"مصدوم\",\n",
    "    \"💃\": \"سعادة مرح\",\n",
    "    \"💃🏼\": \"سعادة مرح\",\n",
    "    \"😜\": \"مرح\",\n",
    "    \"👊\": \"ضربة\",\n",
    "    \"😟\": \"استياء\",\n",
    "    \"💖\": \"حب\",\n",
    "    \"😥\": \"حزن\",\n",
    "    \"🎻\": \"موسيقي\",\n",
    "    \"✒\": \"يكتب\",\n",
    "    \"🚶🏻\": \"يسير\",\n",
    "    \"💎\": \"الماظ\",\n",
    "    \"😷\": \"وباء مرض\",\n",
    "    \"☝\": \"واحد\",\n",
    "    \"🚬\": \"تدخين\",\n",
    "    \"💐\": \"ورد\",\n",
    "    \"🌞\": \"شمس\",\n",
    "    \"👆\": \"الاول\",\n",
    "    \"⚠️\": \"تحذير\",\n",
    "    \"🤗\": \"احتواء\",\n",
    "    \"✖️\": \"غلط\",\n",
    "    \"📍\": \"مكان\",\n",
    "    \"👸\": \"ملكه\",\n",
    "    \"👑\": \"تاج\",\n",
    "    \"✔️\": \"صح\",\n",
    "    \"💌\": \"قلب\",\n",
    "    \"😲\": \"مندهش\",\n",
    "    \"💦\": \"ماء\",\n",
    "    \"🚫\": \"خطا\",\n",
    "    \"👏🏻\": \"برافو\",\n",
    "    \"🏊\": \"يسبح\",\n",
    "    \"👍🏻\": \"تمام\",\n",
    "    \"⭕️\": \"دائره كبيره\",\n",
    "    \"🎷\": \"ساكسفون\",\n",
    "    \"👋\": \"تلويح باليد\",\n",
    "    \"✌🏼\": \"علامه النصر\",\n",
    "    \"🌝\": \"مبتسم\",\n",
    "    \"➿\": \"عقده مزدوجه\",\n",
    "    \"💪🏼\": \"قوي\",\n",
    "    \"📩\":  \"تواصل معي\",\n",
    "    \"☕️\": \"قهوه\",\n",
    "    \"😧\": \"قلق و صدمة\",\n",
    "    \"🗨\": \"رسالة\",\n",
    "    \"❗️\": \"تعجب\",\n",
    "    \"🙆🏻\": \"اشاره موافقه\",\n",
    "    \"👯\": \"اخوات\",\n",
    "    \"©\":  \"رمز\",\n",
    "    \"👵🏽\": \"سيده عجوزه\",\n",
    "    \"🐣\": \"كتكوت\",\n",
    "    \"🙌\": \"تشجيع\",\n",
    "    \"👐🏽\": \"ايدي مفتوحه\",\n",
    "    \"👌🏽\": \"بالظبط\",\n",
    "    \"⁉️\": \"استنكار\",\n",
    "    \"⚽️\": \"كوره\",\n",
    "    \"🕶\": \"حب\",\n",
    "    \"🎈\": \"بالون\",\n",
    "    \"🎀\":    \"ورده\",\n",
    "    \"💵\":  \"فلوس\",\n",
    "    \"😋\":  \"جائع\",\n",
    "    \"😛\":  \"يغيظ\",\n",
    "    \"😠\":  \"غاضب\",\n",
    "    \"✍🏻\":  \"يكتب\",\n",
    "    \"🌾\":  \"ارز\",    \"❌\": \"رفض\",\n",
    "    \"🍟\": \"طعام\",\n",
    "    \"👬\": \"صداقة\",\n",
    "    \"🐰\": \"ارنب\",\n",
    "    \"☂\": \"مطر\",\n",
    "    \"🐑\": \"خروف\",\n",
    "    \"🗣\": \"صوت مرتفع\",\n",
    "    \"👌🏼\": \"احسنت\",\n",
    "    \"☘\": \"مرح\",\n",
    "    \"😮\": \"صدمة\",\n",
    "    \"😦\": \"قلق\",\n",
    "    \"⭕\": \"الحق\",\n",
    "    \"✏️\": \"قلم\",\n",
    "    \"ℹ\": \"معلومات\",\n",
    "    \"🙍🏻\": \"رفض\",\n",
    "    \"⚪️\": \"نضارة نقاء\",\n",
    "    \"🐤\": \"حزن\",\n",
    "    \"💫\": \"مرح\",\n",
    "    \"💝\": \"حب\",\n",
    "    \"🍔\": \"طعام\",\n",
    "    \"❤︎\": \"حب\",\n",
    "    \"✈️\": \"سفر\",\n",
    "    \"🍳\": \"ذكر\",\n",
    "    \"🎤\": \"مايك\",\n",
    "    \"🎾\": \"كره\",\n",
    "    \"🐔\": \"دجاجة\",\n",
    "    \"🙋\": \"سؤال\",\n",
    "    \"📮\": \"بحر\",\n",
    "    \"💉\": \"دواء\",\n",
    "    \"🙏🏼\": \"رجاء طلب\",\n",
    "    \"💂🏿 \": \"حارس\",\n",
    "    \"🎬\": \"سينما\",\n",
    "    \"♦️\": \"مرح\",\n",
    "    \"💡\": \"قكرة\",\n",
    "    \"‼\": \"تعجب\",\n",
    "    \"👼\": \"طفل\",\n",
    "    \"🔑\": \"مفتاح\",\n",
    "    \"♥️\": \"حب\",\n",
    "    \"🕋\": \"كعبة\",\n",
    "    \"🐓\": \"دجاجة\",\n",
    "    \"💩\": \"معترض\",\n",
    "    \"👽\": \"فضائي\",\n",
    "    \"☔️\": \"مطر\",\n",
    "    \"🍷\": \"عصير\",\n",
    "    \"🌟\": \"نجمة\",\n",
    "    \"☁️\": \"سحب\",\n",
    "    \"👃\": \"معترض\",\n",
    "    \"🌺\": \"مرح\",\n",
    "    \"👊🏼\": \"ضرب\",\n",
    "    \"🚶🏾‍♀️\": \"يسير\",\n",
    "    \"👊\": \"ضربة\",\n",
    "    \"😚\": \"حب\",\n",
    "    \"🔸\": \"مرح\",\n",
    "    \"👎🏻\": \"أكره\",\n",
    "    \"👊🏽\": \"ضربة\",\n",
    "    \"😙\": \"حب\",\n",
    "    \"🎥\": \"تصوير\",\n",
    "    \"👉\": \"جذب انتباه\",\n",
    "    \"👏🏽\": \"يصفق\",\n",
    "    \"💪🏻\": \"عضلات\",\n",
    "    \"🏴\": \"اسود\",\n",
    "    \"🔥\": \"حريق\",\n",
    "    \"😬\": \"عدم الراحة\",\n",
    "    \"👊🏿\": \"يضرب\",\n",
    "    \"🌿\": \"ورقه شجره\",\n",
    "    \"✋🏼\": \"تحية\",\n",
    "    \"👐\": \"تحية\",\n",
    "    \"☠️\": \"مرعب\",\n",
    "    \"🎉\": \"يهنئ\",\n",
    "    \"🔕\": \"صامت\",\n",
    "    \"😿\": \"وجه حزين\",\n",
    "    \"☹️\": \"وجه يائس\",\n",
    "    \"😘\": \"حب\",\n",
    "    \"😰\": \"خوف و حزن\",\n",
    "    \"🌼\": \"ورده\",\n",
    "    \"💋\":  \"بوسه\",\n",
    "    \"👇\": \"لاسفل\",\n",
    "    \"❣️\": \"حب\",\n",
    "    \"🎧\": \"سماعات\",\n",
    "    \"📝\": \"يكتب\",\n",
    "    \"😇\": \"دايخ\",\n",
    "    \"😈\": \"رعب\",\n",
    "    \"🏃\": \"يجري\",\n",
    "    \"✌🏻\": \"علامه النصر\",\n",
    "    \"🔫\": \"يضرب\",\n",
    "    \"❗️\": \"تعجب\",\n",
    "    \"👎\": \"غير موافق\",\n",
    "    \"🚶🏽\": \"يتمشي\",\n",
    "    \"😯\": \"متفاجأ\",\n",
    "    \"✊\": \"قوي\",\n",
    "    \"😻\": \"اعجاب\",\n",
    "    \"🙉\": \"قرد\",\n",
    "    \"👧\": \"طفله صغيره\",\n",
    "    \"💪🏽\": \"قوه\",\n",
    "    \"💤\": \"ينام\",\n",
    "    \"✍🏻\": \"يكتب\",\n",
    "    \"❄️\": \"تلج\",\n",
    "    \"💀\": \"رعب\",\n",
    "    \"😤\": \"عابس\",\n",
    "    \"☕️\": \"قهوه\",\n",
    "    \"😹\": \"ضحك\",\n",
    "    \"💓\": \"حب\",\n",
    "    \"☄️ \": \"نار\",\n",
    "    \"👻\": \"رعب\",\n",
    "    \"❎\": \"خطء\",\n",
    "    \"🤮\": \"حزن\",\n",
    "}"
   ]
  },
  {
   "cell_type": "code",
   "execution_count": null,
   "metadata": {},
   "outputs": [],
   "source": [
    "def preprocessing (text):\n",
    "\n",
    "  '''\n",
    "preprocessing levels:\n",
    "1. demojizing: replacing emojis with their corresponding Arabic text\n",
    "2. stopwords removal\n",
    "3. applying other filteration ways using (re.sub). No need to clear punctuation since i have it already in: re.sub(r'[^/w/s]', '', text)\n",
    "'''\n",
    "\n",
    "  def demojize(text):\n",
    "    for emoji, label in emojis.items():\n",
    "      text = text.replace(emoji, ' ' + label + ' ')\n",
    "    return text\n",
    "\n",
    "  def remove_stop_words(text):\n",
    "    text = \" \".join([word for word in text.split() if word not in ar_sw])\n",
    "    return text\n",
    "\n",
    "  def extra_filtering(text):\n",
    "    text = re.sub(\"سيئةة\", \"سيئه\", text)\n",
    "    text = re.sub(r\"[ة]\", \"ه\", text)\n",
    "    text = re.sub(r'[^\\w\\s]', ' ', text) # removes everything except words and spaces\n",
    "    text = re.sub('\\d', '', text)\n",
    "    text = re.sub('\\s\\w\\s', ' ', text)\n",
    "    text = re.sub(r\"[أإآ]\", \"ا\", text)\n",
    "    text = re.sub(r\"[ؤئ]\", \"ء\", text)\n",
    "    return text\n",
    "\n",
    "\n",
    "  text = demojize(text)\n",
    "  text = remove_stop_words(text)\n",
    "  text = extra_filtering(text)\n",
    "  text = remove_stop_words(text)\n",
    "\n",
    "  return text"
   ]
  },
  {
   "cell_type": "code",
   "execution_count": null,
   "metadata": {},
   "outputs": [
    {
     "name": "stdout",
     "output_type": "stream",
     "text": [
      "مرحبا عزيزي احمد ورده حبيت اسال نجمه حريق حب شالله تكون بخير الله\n",
      "['روعه', 'عه', 'فيله', 'اسكندنافيه', 'بره', 'سيءه', 'تجربه جميله', 'سيءه']\n"
     ]
    }
   ],
   "source": [
    "# testing the function\n",
    "\n",
    "texts = ['روعة', 'عة', 'فيله', 'اسكندنافية', 'برة', 'سيئة', 'تجربة جميلة', 'سيئةة']\n",
    "ar_text = \"مرحباً عزيزي. آني أحمد 🌹. حبيت أسأل عليك. !! ✨🔥😍 إن شالله تكون بخير..الله .\"\n",
    "\n",
    "edited = preprocessing(ar_text)\n",
    "edited2 = [preprocessing(text) for text in texts]\n",
    "\n",
    "print(\n",
    "    edited, edited2, sep = '\\n'\n",
    ")\n",
    "# this kind of preprocessing familiarizes our data with the word2vec model"
   ]
  },
  {
   "cell_type": "code",
   "execution_count": null,
   "metadata": {},
   "outputs": [],
   "source": [
    "# applying preprocessing to the data\n",
    "df_c.review_description = df_c.review_description.apply(lambda x: preprocessing(x))"
   ]
  },
  {
   "cell_type": "markdown",
   "metadata": {},
   "source": [
    "Vectorizing, Cleaning and Padding Data"
   ]
  },
  {
   "cell_type": "code",
   "execution_count": null,
   "metadata": {},
   "outputs": [],
   "source": [
    "def costume_word2vec(text):\n",
    "  word_to_seq = []\n",
    "  for word in text.split():\n",
    "    if word in word_embed.wv:\n",
    "      w2vec = word_embed.wv[word]\n",
    "    else: w2vec = np.zeros(300)\n",
    "\n",
    "    word_to_seq.append(w2vec)\n",
    "\n",
    "  return np.array(word_to_seq)\n"
   ]
  },
  {
   "cell_type": "code",
   "execution_count": null,
   "metadata": {},
   "outputs": [],
   "source": [
    "def cleaning_empty_rows(comments, vectors):\n",
    "\n",
    "  df_c.reset_index(drop = True, inplace = True)\n",
    "\n",
    "  rows_to_drop = []\n",
    "\n",
    "  for id, comment in enumerate(comments):\n",
    "    if len(comment) == 0:\n",
    "      rows_to_drop.append(id)\n",
    "\n",
    "  rows_to_drop\n",
    "\n",
    "  df_c.drop(rows_to_drop, inplace = True)\n",
    "  df_c.reset_index(drop = True, inplace = True)\n",
    "\n",
    "  rows_to_delete = []\n",
    "\n",
    "  for i, vec in enumerate(vectors):\n",
    "\n",
    "    if len(vec) == 0:\n",
    "      rows_to_delete.append(i)\n",
    "\n",
    "  df_c.drop(rows_to_delete, inplace = True)\n",
    "  df_c.reset_index(drop = True, inplace = True)\n",
    "\n",
    "  ensure_null_empty_comments = []\n",
    "  for id, comment in enumerate(comments):\n",
    "    if len(comment) == 0:\n",
    "      ensure_null_empty_comments.append(id)\n",
    "\n",
    "  ensure_null_empty_vectors = []\n",
    "  for id, vec in enumerate(vectors):\n",
    "    if len(vec) == 0:\n",
    "      ensure_null_empty_vectors.append(id)\n",
    "\n",
    "  if len(ensure_null_empty_comments) == 0 and len(ensure_null_empty_vectors) == 0:\n",
    "    return ('the DataFrame is ready now for padding')\n"
   ]
  },
  {
   "cell_type": "code",
   "execution_count": null,
   "metadata": {},
   "outputs": [],
   "source": [
    "def padding(sequence, maxlen = 25):\n",
    "\n",
    "  '''\n",
    "This function pads w2vec sequences with (,300)-shaped np array in each\n",
    "row. the number of padded sequences should reach the max length\n",
    "of 25 vectors per comment. Through padding and truncating, The final\n",
    "shape will be (25, 300) for each row, where 25 represents the number\n",
    "of max words per comment, and 500 represents the vector size of each word.\n",
    "  '''\n",
    "\n",
    "  word2vec_size = 300\n",
    "  padding_vec = np.zeros(word2vec_size, dtype = 'float32')\n",
    "  sequence_len = sequence.shape[0]\n",
    "\n",
    "  while sequence_len < maxlen:\n",
    "    sequence = np.vstack((sequence, padding_vec))\n",
    "    sequence_len += 1\n",
    "\n",
    "  if sequence.shape[0] != maxlen:       # truncating sequences exceeding the maxlen limit\n",
    "    sequence = sequence[:maxlen, :]\n",
    "\n",
    "  return sequence"
   ]
  },
  {
   "cell_type": "code",
   "execution_count": null,
   "metadata": {},
   "outputs": [
    {
     "data": {
      "text/plain": [
       "'the DataFrame is ready now for padding'"
      ]
     },
     "execution_count": 65,
     "metadata": {},
     "output_type": "execute_result"
    }
   ],
   "source": [
    "df_c['word2vec'] = df_c.review_description.apply(costume_word2vec)\n",
    "cleaning_empty_rows(df_c.review_description, df_c.word2vec)\n",
    "cleaning_empty_rows(df_c.review_description, df_c.word2vec)"
   ]
  },
  {
   "cell_type": "code",
   "execution_count": null,
   "metadata": {},
   "outputs": [],
   "source": [
    "df_c['padded_seq'] = df_c.word2vec.apply(padding)"
   ]
  },
  {
   "cell_type": "code",
   "execution_count": null,
   "metadata": {},
   "outputs": [
    {
     "data": {
      "text/html": [
       "<div>\n",
       "<style scoped>\n",
       "    .dataframe tbody tr th:only-of-type {\n",
       "        vertical-align: middle;\n",
       "    }\n",
       "\n",
       "    .dataframe tbody tr th {\n",
       "        vertical-align: top;\n",
       "    }\n",
       "\n",
       "    .dataframe thead th {\n",
       "        text-align: right;\n",
       "    }\n",
       "</style>\n",
       "<table border=\"1\" class=\"dataframe\">\n",
       "  <thead>\n",
       "    <tr style=\"text-align: right;\">\n",
       "      <th></th>\n",
       "      <th>review_description</th>\n",
       "      <th>rating</th>\n",
       "      <th>word2vec</th>\n",
       "      <th>padded_seq</th>\n",
       "    </tr>\n",
       "  </thead>\n",
       "  <tbody>\n",
       "    <tr>\n",
       "      <th>0</th>\n",
       "      <td>التطبيق لا يغتح داءما بيعطيني لا يوجد اتصال با...</td>\n",
       "      <td>-1</td>\n",
       "      <td>[[0.06687525659799576, 0.05879382789134979, 0....</td>\n",
       "      <td>[[0.06687525659799576, 0.05879382789134979, 0....</td>\n",
       "    </tr>\n",
       "    <tr>\n",
       "      <th>1</th>\n",
       "      <td>لماذا لا يمكننا طلب ماكدونالدز</td>\n",
       "      <td>-1</td>\n",
       "      <td>[[0.015342356, -0.02547007, 0.1518658, 0.12689...</td>\n",
       "      <td>[[0.015342356, -0.02547007, 0.1518658, 0.12689...</td>\n",
       "    </tr>\n",
       "    <tr>\n",
       "      <th>2</th>\n",
       "      <td>البرنامج بيظهر المطاعم مغلقه انها فاتحه بقاله ...</td>\n",
       "      <td>-1</td>\n",
       "      <td>[[-0.026470690965652466, 0.18882469832897186, ...</td>\n",
       "      <td>[[-0.026470690965652466, 0.18882469832897186, ...</td>\n",
       "    </tr>\n",
       "    <tr>\n",
       "      <th>3</th>\n",
       "      <td>غالي جدا</td>\n",
       "      <td>-1</td>\n",
       "      <td>[[0.11170384, -0.09435396, 0.16270615, -0.4193...</td>\n",
       "      <td>[[0.11170384, -0.09435396, 0.16270615, -0.4193...</td>\n",
       "    </tr>\n",
       "    <tr>\n",
       "      <th>4</th>\n",
       "      <td>للاسف الواحد ينصدم زياده الاسعار للاسف المطاعم...</td>\n",
       "      <td>-1</td>\n",
       "      <td>[[0.11759499460458755, -0.10764431208372116, 0...</td>\n",
       "      <td>[[0.11759499460458755, -0.10764431208372116, 0...</td>\n",
       "    </tr>\n",
       "  </tbody>\n",
       "</table>\n",
       "</div>"
      ],
      "text/plain": [
       "                                  review_description  rating  \\\n",
       "0  التطبيق لا يغتح داءما بيعطيني لا يوجد اتصال با...      -1   \n",
       "1                     لماذا لا يمكننا طلب ماكدونالدز      -1   \n",
       "2  البرنامج بيظهر المطاعم مغلقه انها فاتحه بقاله ...      -1   \n",
       "3                                           غالي جدا      -1   \n",
       "4  للاسف الواحد ينصدم زياده الاسعار للاسف المطاعم...      -1   \n",
       "\n",
       "                                            word2vec  \\\n",
       "0  [[0.06687525659799576, 0.05879382789134979, 0....   \n",
       "1  [[0.015342356, -0.02547007, 0.1518658, 0.12689...   \n",
       "2  [[-0.026470690965652466, 0.18882469832897186, ...   \n",
       "3  [[0.11170384, -0.09435396, 0.16270615, -0.4193...   \n",
       "4  [[0.11759499460458755, -0.10764431208372116, 0...   \n",
       "\n",
       "                                          padded_seq  \n",
       "0  [[0.06687525659799576, 0.05879382789134979, 0....  \n",
       "1  [[0.015342356, -0.02547007, 0.1518658, 0.12689...  \n",
       "2  [[-0.026470690965652466, 0.18882469832897186, ...  \n",
       "3  [[0.11170384, -0.09435396, 0.16270615, -0.4193...  \n",
       "4  [[0.11759499460458755, -0.10764431208372116, 0...  "
      ]
     },
     "execution_count": 67,
     "metadata": {},
     "output_type": "execute_result"
    }
   ],
   "source": [
    "df_c.head()"
   ]
  },
  {
   "cell_type": "code",
   "execution_count": null,
   "metadata": {},
   "outputs": [],
   "source": [
    "# converting positive rating from 1 to zero\n",
    "y_axis = df_c.rating\n",
    "y_axis = np.array(y_axis)\n",
    "mask = (y_axis == 1)\n",
    "y_axis[mask] *= 0"
   ]
  },
  {
   "cell_type": "code",
   "execution_count": null,
   "metadata": {},
   "outputs": [],
   "source": [
    "# converting negative rating from -1 to 1\n",
    "mask = (y_axis == -1)\n",
    "y_axis[mask] *= -1\n",
    "y_axis = pd.DataFrame(y_axis)\n",
    "\n",
    "# The y, having values with only zeros and ones, is ready to be processed by sigmoid."
   ]
  },
  {
   "cell_type": "code",
   "execution_count": null,
   "metadata": {},
   "outputs": [],
   "source": [
    "df_c['y'] = y_axis"
   ]
  },
  {
   "cell_type": "code",
   "execution_count": null,
   "metadata": {},
   "outputs": [
    {
     "data": {
      "text/html": [
       "<div>\n",
       "<style scoped>\n",
       "    .dataframe tbody tr th:only-of-type {\n",
       "        vertical-align: middle;\n",
       "    }\n",
       "\n",
       "    .dataframe tbody tr th {\n",
       "        vertical-align: top;\n",
       "    }\n",
       "\n",
       "    .dataframe thead th {\n",
       "        text-align: right;\n",
       "    }\n",
       "</style>\n",
       "<table border=\"1\" class=\"dataframe\">\n",
       "  <thead>\n",
       "    <tr style=\"text-align: right;\">\n",
       "      <th></th>\n",
       "      <th>review_description</th>\n",
       "      <th>rating</th>\n",
       "      <th>word2vec</th>\n",
       "      <th>padded_seq</th>\n",
       "      <th>y</th>\n",
       "    </tr>\n",
       "  </thead>\n",
       "  <tbody>\n",
       "    <tr>\n",
       "      <th>0</th>\n",
       "      <td>التطبيق لا يغتح داءما بيعطيني لا يوجد اتصال با...</td>\n",
       "      <td>-1</td>\n",
       "      <td>[[0.06687525659799576, 0.05879382789134979, 0....</td>\n",
       "      <td>[[0.06687525659799576, 0.05879382789134979, 0....</td>\n",
       "      <td>1</td>\n",
       "    </tr>\n",
       "    <tr>\n",
       "      <th>1</th>\n",
       "      <td>لماذا لا يمكننا طلب ماكدونالدز</td>\n",
       "      <td>-1</td>\n",
       "      <td>[[0.015342356, -0.02547007, 0.1518658, 0.12689...</td>\n",
       "      <td>[[0.015342356, -0.02547007, 0.1518658, 0.12689...</td>\n",
       "      <td>1</td>\n",
       "    </tr>\n",
       "    <tr>\n",
       "      <th>2</th>\n",
       "      <td>البرنامج بيظهر المطاعم مغلقه انها فاتحه بقاله ...</td>\n",
       "      <td>-1</td>\n",
       "      <td>[[-0.026470690965652466, 0.18882469832897186, ...</td>\n",
       "      <td>[[-0.026470690965652466, 0.18882469832897186, ...</td>\n",
       "      <td>1</td>\n",
       "    </tr>\n",
       "  </tbody>\n",
       "</table>\n",
       "</div>"
      ],
      "text/plain": [
       "                                  review_description  rating  \\\n",
       "0  التطبيق لا يغتح داءما بيعطيني لا يوجد اتصال با...      -1   \n",
       "1                     لماذا لا يمكننا طلب ماكدونالدز      -1   \n",
       "2  البرنامج بيظهر المطاعم مغلقه انها فاتحه بقاله ...      -1   \n",
       "\n",
       "                                            word2vec  \\\n",
       "0  [[0.06687525659799576, 0.05879382789134979, 0....   \n",
       "1  [[0.015342356, -0.02547007, 0.1518658, 0.12689...   \n",
       "2  [[-0.026470690965652466, 0.18882469832897186, ...   \n",
       "\n",
       "                                          padded_seq  y  \n",
       "0  [[0.06687525659799576, 0.05879382789134979, 0....  1  \n",
       "1  [[0.015342356, -0.02547007, 0.1518658, 0.12689...  1  \n",
       "2  [[-0.026470690965652466, 0.18882469832897186, ...  1  "
      ]
     },
     "execution_count": 71,
     "metadata": {},
     "output_type": "execute_result"
    }
   ],
   "source": [
    "df_c.iloc[:3]"
   ]
  },
  {
   "cell_type": "code",
   "execution_count": null,
   "metadata": {},
   "outputs": [
    {
     "data": {
      "text/html": [
       "<div>\n",
       "<style scoped>\n",
       "    .dataframe tbody tr th:only-of-type {\n",
       "        vertical-align: middle;\n",
       "    }\n",
       "\n",
       "    .dataframe tbody tr th {\n",
       "        vertical-align: top;\n",
       "    }\n",
       "\n",
       "    .dataframe thead th {\n",
       "        text-align: right;\n",
       "    }\n",
       "</style>\n",
       "<table border=\"1\" class=\"dataframe\">\n",
       "  <thead>\n",
       "    <tr style=\"text-align: right;\">\n",
       "      <th></th>\n",
       "      <th>review_description</th>\n",
       "      <th>rating</th>\n",
       "      <th>word2vec</th>\n",
       "      <th>padded_seq</th>\n",
       "      <th>y</th>\n",
       "    </tr>\n",
       "  </thead>\n",
       "  <tbody>\n",
       "    <tr>\n",
       "      <th>15000</th>\n",
       "      <td>قمه الروعه والجمال شاءالله بتوفيق الله</td>\n",
       "      <td>1</td>\n",
       "      <td>[[0.041224148, 0.16287784, -0.04612659, 0.0398...</td>\n",
       "      <td>[[0.041224148, 0.16287784, -0.04612659, 0.0398...</td>\n",
       "      <td>0</td>\n",
       "    </tr>\n",
       "    <tr>\n",
       "      <th>15001</th>\n",
       "      <td>حب حب</td>\n",
       "      <td>1</td>\n",
       "      <td>[[0.25641853, -0.2344149, 0.09511715, -0.27733...</td>\n",
       "      <td>[[0.25641853, -0.2344149, 0.09511715, -0.27733...</td>\n",
       "      <td>0</td>\n",
       "    </tr>\n",
       "    <tr>\n",
       "      <th>15002</th>\n",
       "      <td>هواللهوالالهالحمد</td>\n",
       "      <td>1</td>\n",
       "      <td>[[0.0, 0.0, 0.0, 0.0, 0.0, 0.0, 0.0, 0.0, 0.0,...</td>\n",
       "      <td>[[0.0, 0.0, 0.0, 0.0, 0.0, 0.0, 0.0, 0.0, 0.0,...</td>\n",
       "      <td>0</td>\n",
       "    </tr>\n",
       "  </tbody>\n",
       "</table>\n",
       "</div>"
      ],
      "text/plain": [
       "                           review_description  rating  \\\n",
       "15000  قمه الروعه والجمال شاءالله بتوفيق الله       1   \n",
       "15001                                   حب حب       1   \n",
       "15002                       هواللهوالالهالحمد       1   \n",
       "\n",
       "                                                word2vec  \\\n",
       "15000  [[0.041224148, 0.16287784, -0.04612659, 0.0398...   \n",
       "15001  [[0.25641853, -0.2344149, 0.09511715, -0.27733...   \n",
       "15002  [[0.0, 0.0, 0.0, 0.0, 0.0, 0.0, 0.0, 0.0, 0.0,...   \n",
       "\n",
       "                                              padded_seq  y  \n",
       "15000  [[0.041224148, 0.16287784, -0.04612659, 0.0398...  0  \n",
       "15001  [[0.25641853, -0.2344149, 0.09511715, -0.27733...  0  \n",
       "15002  [[0.0, 0.0, 0.0, 0.0, 0.0, 0.0, 0.0, 0.0, 0.0,...  0  "
      ]
     },
     "execution_count": 72,
     "metadata": {},
     "output_type": "execute_result"
    }
   ],
   "source": [
    "df_c.iloc[15000:15003]"
   ]
  },
  {
   "cell_type": "markdown",
   "metadata": {},
   "source": [
    "Splitting Data"
   ]
  },
  {
   "cell_type": "code",
   "execution_count": null,
   "metadata": {},
   "outputs": [],
   "source": [
    "X = df_c[['review_description', 'padded_seq']]\n",
    "y = df_c.y\n",
    "\n",
    "X_train, X_test, y_train, y_test = train_test_split(X, y, test_size=0.2, random_state=42)"
   ]
  },
  {
   "cell_type": "code",
   "execution_count": null,
   "metadata": {},
   "outputs": [
    {
     "name": "stdout",
     "output_type": "stream",
     "text": [
      "22368\n",
      "5592\n",
      "22368\n",
      "5592\n"
     ]
    }
   ],
   "source": [
    "print(len(X_train), len(X_test), len(y_train), len(y_test), sep = '\\n')"
   ]
  },
  {
   "cell_type": "code",
   "execution_count": null,
   "metadata": {},
   "outputs": [],
   "source": [
    "def dataset_creater(x, y):\n",
    "    x_tensor = tf.convert_to_tensor(x)  # Convert NumPy array to TensorFlow tensor\n",
    "    y_tensor = tf.convert_to_tensor(y)  # Convert NumPy array to TensorFlow tensor\n",
    "\n",
    "    data = tf.data.Dataset.from_tensor_slices((x_tensor, y_tensor))\n",
    "    data = data.shuffle(1028).batch(32).prefetch(tf.data.AUTOTUNE)\n",
    "    return data\n",
    "\n",
    "\n",
    "x_numpy_train = np.array(X_train.padded_seq.tolist())\n",
    "y_numpy_train = np.array(y_train.tolist())\n",
    "\n",
    "x_numpy_test = np.array(X_test.padded_seq.tolist())\n",
    "y_numpy_test = np.array(y_test.tolist())\n",
    "\n",
    "\n",
    "train_dataset = dataset_creater(x_numpy_train, y_numpy_train)\n",
    "test_dataset = dataset_creater(x_numpy_test, y_numpy_test)"
   ]
  },
  {
   "cell_type": "code",
   "execution_count": null,
   "metadata": {},
   "outputs": [
    {
     "name": "stdout",
     "output_type": "stream",
     "text": [
      "tf.Tensor(\n",
      "[[ 0.12611327 -0.13138239  0.02334652 ...  0.3512145   0.00234702\n",
      "  -0.11452236]\n",
      " [ 0.06226898  0.32325211 -0.16959733 ... -0.17186579 -0.01685726\n",
      "   0.02974321]\n",
      " [-0.10335413 -0.05997237  0.29374197 ...  0.30673012 -0.14378722\n",
      "  -0.04378572]\n",
      " ...\n",
      " [ 0.          0.          0.         ...  0.          0.\n",
      "   0.        ]\n",
      " [ 0.          0.          0.         ...  0.          0.\n",
      "   0.        ]\n",
      " [ 0.          0.          0.         ...  0.          0.\n",
      "   0.        ]], shape=(25, 300), dtype=float64)\n",
      "tf.Tensor(0, shape=(), dtype=int32)\n"
     ]
    }
   ],
   "source": [
    "for x, y in train_dataset.take(1):\n",
    "    print(x[0])\n",
    "    print(y[0])"
   ]
  },
  {
   "cell_type": "markdown",
   "metadata": {},
   "source": [
    "Building and Training the Model ✨"
   ]
  },
  {
   "cell_type": "code",
   "execution_count": null,
   "metadata": {},
   "outputs": [],
   "source": [
    "import tensorflow as tf"
   ]
  },
  {
   "cell_type": "code",
   "execution_count": null,
   "metadata": {},
   "outputs": [],
   "source": [
    "model = Sequential([])\n",
    "\n",
    "model.add(tf.keras.layers.Input(shape=(25, 300)))\n",
    "model.add(tf.keras.layers.LSTM(32, return_sequences=True))\n",
    "model.add(tf.keras.layers.Dropout(0.2))\n",
    "model.add(tf.keras.layers.LSTM(64, return_sequences=True))\n",
    "model.add(tf.keras.layers.Dropout(0.2))\n",
    "model.add(tf.keras.layers.Flatten())\n",
    "model.add(tf.keras.layers.Dense(1, activation='sigmoid'))"
   ]
  },
  {
   "cell_type": "code",
   "execution_count": null,
   "metadata": {},
   "outputs": [],
   "source": [
    "from tensorflow.keras.losses import BinaryCrossentropy\n",
    "from tensorflow.keras.optimizers import Adam\n",
    "from tensorflow.keras.metrics import AUC\n",
    "from tensorflow.keras.callbacks import ModelCheckpoint\n",
    "\n",
    "model.compile(optimizer=Adam(learning_rate=0.0001),\n",
    "              loss=BinaryCrossentropy(),\n",
    "              metrics=['accuracy', AUC(name='auc')])"
   ]
  },
  {
   "cell_type": "code",
   "execution_count": null,
   "metadata": {},
   "outputs": [
    {
     "name": "stdout",
     "output_type": "stream",
     "text": [
      "Epoch 1/10\n",
      "699/699 [==============================] - 157s 221ms/step - loss: 0.4269 - accuracy: 0.8033 - auc: 0.8864 - val_loss: 0.3439 - val_accuracy: 0.8501 - val_auc: 0.9260\n",
      "Epoch 2/10\n",
      "699/699 [==============================] - 145s 208ms/step - loss: 0.3388 - accuracy: 0.8574 - auc: 0.9284 - val_loss: 0.3286 - val_accuracy: 0.8603 - val_auc: 0.9334\n",
      "Epoch 3/10\n",
      "699/699 [==============================] - 145s 207ms/step - loss: 0.3252 - accuracy: 0.8637 - auc: 0.9341 - val_loss: 0.3192 - val_accuracy: 0.8655 - val_auc: 0.9366\n",
      "Epoch 4/10\n",
      "699/699 [==============================] - 151s 216ms/step - loss: 0.3184 - accuracy: 0.8655 - auc: 0.9370 - val_loss: 0.3149 - val_accuracy: 0.8677 - val_auc: 0.9386\n",
      "Epoch 5/10\n",
      "699/699 [==============================] - 152s 217ms/step - loss: 0.3113 - accuracy: 0.8690 - auc: 0.9398 - val_loss: 0.3113 - val_accuracy: 0.8705 - val_auc: 0.9398\n",
      "Epoch 6/10\n",
      "699/699 [==============================] - 147s 211ms/step - loss: 0.3057 - accuracy: 0.8711 - auc: 0.9420 - val_loss: 0.3108 - val_accuracy: 0.8712 - val_auc: 0.9405\n",
      "Epoch 7/10\n",
      "699/699 [==============================] - 146s 209ms/step - loss: 0.3017 - accuracy: 0.8731 - auc: 0.9435 - val_loss: 0.3077 - val_accuracy: 0.8732 - val_auc: 0.9413\n",
      "Epoch 8/10\n",
      "699/699 [==============================] - 150s 215ms/step - loss: 0.2979 - accuracy: 0.8752 - auc: 0.9449 - val_loss: 0.3065 - val_accuracy: 0.8730 - val_auc: 0.9420\n",
      "Epoch 9/10\n",
      "699/699 [==============================] - 147s 210ms/step - loss: 0.2941 - accuracy: 0.8764 - auc: 0.9463 - val_loss: 0.3055 - val_accuracy: 0.8727 - val_auc: 0.9425\n",
      "Epoch 10/10\n",
      "699/699 [==============================] - 151s 217ms/step - loss: 0.2911 - accuracy: 0.8784 - auc: 0.9472 - val_loss: 0.3121 - val_accuracy: 0.8709 - val_auc: 0.9423\n"
     ]
    },
    {
     "data": {
      "text/plain": [
       "<keras.src.callbacks.History at 0x1ea5b39d1e0>"
      ]
     },
     "execution_count": 80,
     "metadata": {},
     "output_type": "execute_result"
    }
   ],
   "source": [
    "model.fit(train_dataset, validation_data = test_dataset, epochs=10)"
   ]
  },
  {
   "cell_type": "code",
   "execution_count": 98,
   "metadata": {},
   "outputs": [],
   "source": [
    "def predict_comment(text):\n",
    "\n",
    "  common_name = 'الفراش الأبيض White Bedding' # common names are filtered out during preprocessing\n",
    "\n",
    "  try:\n",
    "\n",
    "    text = preprocessing(text)\n",
    "    text = text.replace(common_name, ' ')\n",
    "    text = costume_word2vec(text)\n",
    "    text = padding(text)\n",
    "    text = np.expand_dims(text, axis = 0)\n",
    "\n",
    "    result = model.predict(text, verbose = 0)\n",
    "\n",
    "    if result >= 0.64:\n",
    "      return 'السلبية', result\n",
    "\n",
    "    elif result <= 0.4:\n",
    "      return 'الإيجابية', result\n",
    "\n",
    "    else: return 'المحايدة', result\n",
    "\n",
    "  except:\n",
    "    return 'المحايدة', 0.5\n"
   ]
  },
  {
   "cell_type": "code",
   "execution_count": 99,
   "metadata": {},
   "outputs": [],
   "source": [
    "\n",
    "def most_frequent(words, top_ = 5):\n",
    "  from collections import Counter\n",
    "\n",
    "  company_name = 'الفراش الأبيض White Bedding'\n",
    "\n",
    "  words = str(words)\n",
    "  words = re.sub(r'[^\\w\\s]', ' ', words)\n",
    "  words = re.sub(company_name, ' ', words)\n",
    "  \n",
    "  filtered = [word for word in words.split() if word not in ar_sw]\n",
    "  counted = Counter(filtered)\n",
    "  most_freq = counted.most_common(top_) # provide five words starting from the most repeated ones\n",
    "\n",
    "  text = ''\n",
    "  for item in most_freq:\n",
    "    text += item[0] + '، '\n",
    "\n",
    "  return text[:-2]\n"
   ]
  },
  {
   "cell_type": "markdown",
   "metadata": {},
   "source": [
    "Building Facebook Comments Extractor Using Native FB App GraphAPI"
   ]
  },
  {
   "cell_type": "code",
   "execution_count": 100,
   "metadata": {},
   "outputs": [],
   "source": [
    "import facebook\n",
    "\n",
    "\n",
    "def raw_data(post_id, pagination = False):\n",
    "\n",
    "    import time\n",
    "\n",
    "    my_token = 'EAADm2UqeccQBOy2YI3ElRQHI6CejvNRIfVn6tQOvyEe3zIqN25llSEhPbkMk8XZAt3oB1VsAmFZCGoPuvFGymA0SDHAhBaw9veIBgqIzeUrmlTXS034wTX2kgkTpaFN86GvZCUwFjker9H8c9XxgMQmmJAu2vR6qZBajt4tUuJABTn9m29wmxevr5eu1Xh1UpePZCizDQp8h0FTpQshFU4S3ZB'\n",
    "    graph = facebook.GraphAPI(my_token)\n",
    "\n",
    "    posts = graph.get_object(id=f\"771186246558535_{post_id}\",fields='comments') # scrapes for a single page\n",
    "\n",
    "    comments_all = graph.get_all_connections(id =f'771186246558535_{post_id}', connection_name ='comments',\n",
    "                                                fields ='comments'\n",
    "    )\n",
    "    time.sleep(3)\n",
    "\n",
    "    return comments_all if pagination else posts\n",
    "\n"
   ]
  },
  {
   "cell_type": "code",
   "execution_count": 101,
   "metadata": {},
   "outputs": [],
   "source": [
    "\n",
    "def extract_comments(post_id, limit = 500, include_replies = False, only_replies = False, pagination = False):\n",
    "\n",
    "    '''\n",
    "    This function extracts comments from facebook. Here you can decide the number of\n",
    "    comments to fetch from a particular FB post. You can also decide what kind of comments you\n",
    "    want to get: \"include_replies\" for example is designed to fetch people comments as well as\n",
    "    page replies. The number of processed comments may exceed or slightly fall behind the limit\n",
    "    according to the kind of comments you're fetching. \n",
    "    '''\n",
    "    if pagination:\n",
    "        r_com = raw_data(post_id, pagination = True)\n",
    "\n",
    "        counter = 0\n",
    "        raw_coms = []\n",
    "        comments = []\n",
    "\n",
    "        for com in r_com:\n",
    "            raw_coms.append(com)\n",
    "            counter += 1\n",
    "            if counter == limit:\n",
    "                break\n",
    "\n",
    "        if include_replies:\n",
    "                \n",
    "                for raw_com in raw_coms:\n",
    "                    if 'comments' in raw_com:\n",
    "                        for comment in raw_com['comments']['data']:\n",
    "                                comments.append(comment['message'])\n",
    "\n",
    "        elif only_replies:\n",
    "\n",
    "            for raw_com in raw_coms:\n",
    "                if 'comments' in raw_com:\n",
    "                    for comment in raw_com['comments']['data']:\n",
    "                        if 'from' in comment:\n",
    "                            comments.append(comment['message'])\n",
    "            \n",
    "        else:\n",
    "\n",
    "            for raw_com in raw_coms:\n",
    "                if 'comments' in raw_com:\n",
    "                    for comment in raw_com['comments']['data']:\n",
    "                        if 'from' not in comment:\n",
    "                            comments.append(comment['message'])\n",
    "        \n",
    "        return comments\n",
    "\n",
    "    else:\n",
    "        comms = raw_data(post_id)\n",
    "        return [comment['message'] for comment in comms['comments']['data']]"
   ]
  },
  {
   "cell_type": "code",
   "execution_count": 102,
   "metadata": {},
   "outputs": [],
   "source": [
    "def read_comments(comments):\n",
    "  import matplotlib.pyplot as plt\n",
    "\n",
    "  frequent_words = most_frequent(comments)\n",
    "\n",
    "  predicted_list = [predict_comment(comment) for comment in comments]\n",
    "  sent_dict = {'الإيجابية': 0, 'السلبية': 0, 'المحايدة': 0}\n",
    "  sent_text = ''\n",
    "\n",
    "\n",
    "  sent_list = [sent[0] for sent in predicted_list]\n",
    "  prob_list = [round(float(item[1]), 3) for item in predicted_list]\n",
    "\n",
    "  positive_comments = [comments[ind] for ind, val in enumerate(sent_list) if val == 'الإيجابية']\n",
    "  neutral_comments = [comments[ind] for ind, val in enumerate(sent_list) if val == 'المحايدة']\n",
    "  negative_comments = [comments[ind] for ind, val in enumerate(sent_list) if val == 'السلبية']\n",
    "\n",
    "  frequent_positive = most_frequent(positive_comments)\n",
    "  frequent_negative = most_frequent(negative_comments)\n",
    "\n",
    "\n",
    "  pos_neg = ( f'''\n",
    "    الكلمات الأكثر تكراراً في التعليقات الإيجابية:\n",
    "    {str(frequent_positive)},\n",
    "\n",
    "    الكلمات الأكثر تكراراً في التعليقات السلبية:\n",
    "    {str(frequent_negative)}\n",
    "    '''\n",
    "  )\n",
    "\n",
    "  for sent in sent_list:\n",
    "    sent_dict[sent] += 1\n",
    "\n",
    "  for key, val in sent_dict.items():\n",
    "    sent_text += key + ' : ' + str(val) + '\\n'\n",
    "\n",
    "  plt.pie(sent_dict.values(), labels = ['positive', 'negative', 'neutral'], autopct='%1.1f%%', startangle=140)\n",
    "  plt.savefig('stats.png', dpi = 300, bbox_inches = 'tight')\n",
    "  pie_fig = plt.imread('stats.png')\n",
    "\n",
    "  most_positive_comment = comments[np.argmin(prob_list)]\n",
    "  most_negative_comment = comments[np.argmax(prob_list)]\n",
    "\n",
    "  if len(frequent_negative) != 0:\n",
    "    pos_neg_com = (\n",
    "    f'''\n",
    "    تعليق إيجابي مميز:\n",
    "    {most_positive_comment}\n",
    "\n",
    "    أبرز تعليق سلبي:\n",
    "    {most_negative_comment}\n",
    "\n",
    "    '''\n",
    "    )\n",
    "    \n",
    "  else: pos_neg_com = (\n",
    "          f'''\n",
    "    تعليق إيجابي مميز:\n",
    "    {most_positive_comment}\n",
    "\n",
    "    أبرز تعليق محايد:\n",
    "    {most_negative_comment}\n",
    "\n",
    "    '''\n",
    "  )\n",
    "\n",
    "\n",
    "\n",
    "  return (\n",
    "      sent_text,\n",
    "      pie_fig,\n",
    "      pos_neg,\n",
    "      pos_neg_com\n",
    "\n",
    "  )\n"
   ]
  },
  {
   "cell_type": "code",
   "execution_count": 3,
   "metadata": {},
   "outputs": [],
   "source": [
    "def comments_analyzer(post_id, pagination = False, limit = 500):\n",
    "    if pagination:\n",
    "        comments = extract_comments(str(post_id), pagination = True, limit = limit)\n",
    "    else: comments = extract_comments(str(post_id))\n",
    "    result = read_comments(comments)\n",
    "    return result"
   ]
  },
  {
   "cell_type": "code",
   "execution_count": 104,
   "metadata": {},
   "outputs": [
    {
     "data": {
      "text/plain": [
       "'\\nlist of post IDs\\nto try the model, copy and paste one of these IDs inside gradio input:\\n2834368980031927\\n616656483829022\\n\\n'"
      ]
     },
     "execution_count": 104,
     "metadata": {},
     "output_type": "execute_result"
    }
   ],
   "source": [
    "'''\n",
    "list of post IDs\n",
    "to try the model, copy and paste one of these IDs inside gradio input:\n",
    "616656483829022\n",
    "606161281545209\n",
    "\n",
    "'''"
   ]
  },
  {
   "cell_type": "code",
   "execution_count": 4,
   "metadata": {},
   "outputs": [
    {
     "name": "stdout",
     "output_type": "stream",
     "text": [
      "Running on local URL:  http://127.0.0.1:7860\n",
      "\n",
      "To create a public link, set `share=True` in `launch()`.\n"
     ]
    },
    {
     "data": {
      "text/html": [
       "<div><iframe src=\"http://127.0.0.1:7860/\" width=\"100%\" height=\"500\" allow=\"autoplay; camera; microphone; clipboard-read; clipboard-write;\" frameborder=\"0\" allowfullscreen></iframe></div>"
      ],
      "text/plain": [
       "<IPython.core.display.HTML object>"
      ]
     },
     "metadata": {},
     "output_type": "display_data"
    }
   ],
   "source": [
    "app_face = gr.Interface(comments_analyzer,\n",
    "                        'number',\n",
    "                        outputs = [\n",
    "                            gr.Text(label = \"لمحـة عامة\"),\n",
    "                            'image',\n",
    "                            gr.Text(label = 'الكلمات الشائعة'),\n",
    "                            gr.Text(label = 'أبرز التعليقات'),\n",
    "                        ],\n",
    "                        title = 'Customer Feedback Analyzer',\n",
    "                        examples = [[616656483829022], [606161281545209]]\n",
    "                        ).launch()"
   ]
  }
 ],
 "metadata": {
  "kernelspec": {
   "display_name": "Python 3",
   "language": "python",
   "name": "python3"
  },
  "language_info": {
   "codemirror_mode": {
    "name": "ipython",
    "version": 3
   },
   "file_extension": ".py",
   "mimetype": "text/x-python",
   "name": "python",
   "nbconvert_exporter": "python",
   "pygments_lexer": "ipython3",
   "version": "3.7.16"
  },
  "orig_nbformat": 4
 },
 "nbformat": 4,
 "nbformat_minor": 2
}
