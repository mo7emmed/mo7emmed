{
  "nbformat": 4,
  "nbformat_minor": 0,
  "metadata": {
    "colab": {
      "provenance": [],
      "authorship_tag": "ABX9TyNfY51lEVSnATDm7jUtebzu",
      "include_colab_link": true
    },
    "kernelspec": {
      "name": "python3",
      "display_name": "Python 3"
    },
    "language_info": {
      "name": "python"
    }
  },
  "cells": [
    {
      "cell_type": "markdown",
      "metadata": {
        "id": "view-in-github",
        "colab_type": "text"
      },
      "source": [
        "<a href=\"https://colab.research.google.com/github/mo7emmed/mo7emmed/blob/Courses/Different_Pieces_of_Code.ipynb\" target=\"_parent\"><img src=\"https://colab.research.google.com/assets/colab-badge.svg\" alt=\"Open In Colab\"/></a>"
      ]
    },
    {
      "cell_type": "markdown",
      "source": [
        "#Testing while loop that continues with odd numbers"
      ],
      "metadata": {
        "id": "WfBMQYtbTkZ6"
      }
    },
    {
      "cell_type": "code",
      "execution_count": null,
      "metadata": {
        "id": "4MBd0DW9Tgds"
      },
      "outputs": [],
      "source": [
        "a = [2,4,6,14,88,3,8,12,20]\n",
        "i = 0\n",
        "\n",
        "while i < len(a):\n",
        "  if a[i] % 2 != 0:\n",
        "    i+=1\n",
        "    continue\n",
        "\n",
        "  else:\n",
        "    print (a[i])\n",
        "    i+=1\n",
        "\n",
        "print (\"end of loop\")"
      ]
    },
    {
      "cell_type": "markdown",
      "source": [
        "#Testing for loop that breaks with odd numbers"
      ],
      "metadata": {
        "id": "jpIGcBX7YZrn"
      }
    },
    {
      "cell_type": "code",
      "source": [
        "a = [2,4,6,14,88,3,8,12,20]\n",
        "for i in a:\n",
        "  if i % 2 != 0:\n",
        "    break\n",
        "\n",
        "  print (i)\n"
      ],
      "metadata": {
        "id": "KhWefcE0Yc3U"
      },
      "execution_count": null,
      "outputs": []
    },
    {
      "cell_type": "markdown",
      "source": [
        "#Sum Function\n",
        "\n",
        "\n"
      ],
      "metadata": {
        "id": "2fABp33bcRz_"
      }
    },
    {
      "cell_type": "code",
      "source": [
        "def add_num(a, b):\n",
        "  sum = a + b\n",
        "  return sum\n"
      ],
      "metadata": {
        "id": "NIjrVv81crm5"
      },
      "execution_count": null,
      "outputs": []
    },
    {
      "cell_type": "markdown",
      "source": [
        "#Check Function"
      ],
      "metadata": {
        "id": "RfM-Srd9hLRR"
      }
    },
    {
      "cell_type": "code",
      "source": [
        "\n",
        "def check_num (num):\n",
        "  if num % 2 == 0:\n",
        "    return \"The result has an even number\"\n",
        "\n",
        "  else:\n",
        "    return \"The result has an odd number\"\n"
      ],
      "metadata": {
        "id": "9sRdSIDGe_cl"
      },
      "execution_count": null,
      "outputs": []
    },
    {
      "cell_type": "markdown",
      "source": [
        "#Sum Function And Check Function Linked Together\n"
      ],
      "metadata": {
        "id": "qRablCFUivYd"
      }
    },
    {
      "cell_type": "code",
      "source": [
        "result = add_num(6,7)\n",
        "print (result)\n",
        "print (check_num(result))"
      ],
      "metadata": {
        "colab": {
          "base_uri": "https://localhost:8080/"
        },
        "id": "LLr55sfXhSZr",
        "outputId": "2d1b4bf4-1673-4591-9f69-9ee5b8353ad1"
      },
      "execution_count": null,
      "outputs": [
        {
          "output_type": "stream",
          "name": "stdout",
          "text": [
            "13\n",
            "The result has an odd number\n"
          ]
        }
      ]
    },
    {
      "cell_type": "code",
      "source": [
        "class Person():\n",
        "  def __init__ (self, name, DOB, gender):\n",
        "    self.name = name\n",
        "    self.DOB = DOB\n",
        "    self.gender = gender\n",
        "\n",
        "\n",
        "  \n",
        "P = Person(\"Najat\", 1980, \"Male\")\n",
        "print (P.name)\n",
        "print (P.DOB)\n"
      ],
      "metadata": {
        "colab": {
          "base_uri": "https://localhost:8080/"
        },
        "id": "dH96cuwxR08C",
        "outputId": "269de82b-31e9-43d3-f50f-f2a9e558b755"
      },
      "execution_count": null,
      "outputs": [
        {
          "output_type": "stream",
          "name": "stdout",
          "text": [
            "Najat\n",
            "1980\n"
          ]
        }
      ]
    },
    {
      "cell_type": "markdown",
      "source": [
        "#Writing & Reading"
      ],
      "metadata": {
        "id": "9najGsdGXpC_"
      }
    },
    {
      "cell_type": "code",
      "source": [
        "with open ('legend.txt','w') as file:\n",
        "  file.write(\"I'm gonna be a great developer, who serves people passionately\")\n",
        "  "
      ],
      "metadata": {
        "id": "p1kacFg-Xuex"
      },
      "execution_count": null,
      "outputs": []
    }
  ]
}